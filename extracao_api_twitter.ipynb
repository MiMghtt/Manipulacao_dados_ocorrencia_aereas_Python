{
  "nbformat": 4,
  "nbformat_minor": 0,
  "metadata": {
    "colab": {
      "provenance": [],
      "authorship_tag": "ABX9TyOSCO2ekg9IUyQSiPVHzn2d",
      "include_colab_link": true
    },
    "kernelspec": {
      "name": "python3",
      "display_name": "Python 3"
    },
    "language_info": {
      "name": "python"
    }
  },
  "cells": [
    {
      "cell_type": "markdown",
      "metadata": {
        "id": "view-in-github",
        "colab_type": "text"
      },
      "source": [
        "<a href=\"https://colab.research.google.com/github/MiMghtt/Manipulacao_dados_ocorrencia_aereas_Python/blob/main/extracao_api_twitter.ipynb\" target=\"_parent\"><img src=\"https://colab.research.google.com/assets/colab-badge.svg\" alt=\"Open In Colab\"/></a>"
      ]
    },
    {
      "cell_type": "code",
      "execution_count": null,
      "metadata": {
        "id": "3nRT9WZjbFuR"
      },
      "outputs": [],
      "source": [
        "import twitter\n",
        "import requests\n"
      ]
    },
    {
      "cell_type": "code",
      "source": [
        "!pip install python-twitter"
      ],
      "metadata": {
        "id": "nAYm55uVfgtI"
      },
      "execution_count": null,
      "outputs": []
    },
    {
      "cell_type": "code",
      "source": [
        "api = twitter.Api(consumer_key = 'v8QIMrWRi7g3wWWj7E1Gkma9Q',\n",
        "                  consumer_secret = 'QlYUalqWDO0eQF8M574QySxNxZ84gEDtYU5n6Rq1uqYeQbrPEP',\n",
        "                  access_token_key = '1778401663197278208-mqAjRAI9ZxJoW2z82DxGf81K8hO83E',\n",
        "                  access_token_secret = 'yTz1StVmWhew6PfbYBzNH0YJ1n3nYwWCJbdV1m6h90gpz'\n",
        ")"
      ],
      "metadata": {
        "id": "i4Dxy_wzfzLh"
      },
      "execution_count": null,
      "outputs": []
    },
    {
      "cell_type": "code",
      "source": [
        "url = \"https://api.twitter.com/2/tweets/search/recent\""
      ],
      "metadata": {
        "id": "fPRJ9DbvBPcg"
      },
      "execution_count": null,
      "outputs": []
    },
    {
      "cell_type": "code",
      "source": [
        "bearer_token = {\n",
        "    'AAAAAAAAAAAAAAAAAAAAAOYStQEAAAAAhmmy5wH2XHD13knRmNwukkdUexw%3DRTTOWh03C1ZZvBDgoaY7iTLCwpExk0qhE8Mk6c5LTlknivMTgx'\n",
        "}"
      ],
      "metadata": {
        "id": "knaSrx05BTq1"
      },
      "execution_count": null,
      "outputs": []
    },
    {
      "cell_type": "code",
      "source": [
        "params = {\n",
        "    'query' : 'Teste API Twitter',\n",
        "    'max_results' : 10\n",
        "}"
      ],
      "metadata": {
        "id": "1qk83xyOBaCd"
      },
      "execution_count": null,
      "outputs": []
    },
    {
      "cell_type": "code",
      "source": [
        "headers = {\n",
        "    'Authorization' : f'Bearer {bearer_token}'\n",
        "}"
      ],
      "metadata": {
        "id": "Pde9JV1uBia0"
      },
      "execution_count": null,
      "outputs": []
    },
    {
      "cell_type": "code",
      "source": [
        "response = requests.get(url, headers=headers, params=params)"
      ],
      "metadata": {
        "id": "nySh0KWMBrKj"
      },
      "execution_count": null,
      "outputs": []
    },
    {
      "cell_type": "code",
      "source": [
        "if response.status_code == 200:\n",
        "  data = response.json()\n",
        "else:\n",
        "  print(f'Erro: {response.status_code}')\n",
        "  print(response.text)"
      ],
      "metadata": {
        "colab": {
          "base_uri": "https://localhost:8080/"
        },
        "id": "eBZVLm-dBxQ0",
        "outputId": "e717345f-b206-42e7-fa67-d63e5ae33a98"
      },
      "execution_count": null,
      "outputs": [
        {
          "output_type": "stream",
          "name": "stdout",
          "text": [
            "Erro: 401\n",
            "{\n",
            "  \"title\": \"Unauthorized\",\n",
            "  \"type\": \"about:blank\",\n",
            "  \"status\": 401,\n",
            "  \"detail\": \"Unauthorized\"\n",
            "}\n"
          ]
        }
      ]
    }
  ]
}